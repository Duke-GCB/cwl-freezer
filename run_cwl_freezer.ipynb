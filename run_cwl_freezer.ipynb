{
 "cells": [
  {
   "cell_type": "code",
   "execution_count": 4,
   "metadata": {
    "collapsed": false
   },
   "outputs": [
    {
     "name": "stdout",
     "output_type": "stream",
     "text": [
      "{'path': 'steps/0/run/steps/0/run/hints/0/dockerImageId', 'dockerImageId': 'dukegcb/xgenovo'}\n",
      "{'path': 'steps/0/run/steps/1/run/hints/0/dockerImageId', 'dockerImageId': 'dukegcb/xgenovo'}\n",
      "{'path': 'steps/1/run/steps/0/run/hints/0/dockerImageId', 'dockerImageId': 'dukegcb/glimmer'}\n",
      "{'path': 'steps/1/run/steps/1/run/hints/0/dockerImageId', 'dockerImageId': 'dukegcb/glimmer'}\n",
      "{'path': 'steps/1/run/steps/2/run/hints/0/dockerImageId', 'dockerImageId': 'dukegcb/glimmer'}\n",
      "{'path': 'steps/2/run/steps/0/run/hints/0/dockerImageId', 'dockerImageId': 'dukegcb/go-blast'}\n",
      "{'path': 'steps/2/run/steps/1/run/hints/0/dockerImageId', 'dockerImageId': 'dukegcb/extract-go-terms'}\n",
      "dukegcb/extract-go-terms\n",
      "dukegcb/glimmer\n",
      "dukegcb/xgenovo\n",
      "dukegcb/go-blast\n"
     ]
    }
   ],
   "source": [
    "import cwl_freezer\n",
    "reload(cwl_freezer)\n",
    "workflow_file = '/Users/dcl9/Code/python/mmap-cwl/mmap.cwl'\n",
    "cwl_freezer.freeze_workflow(workflow_file,None)"
   ]
  },
  {
   "cell_type": "code",
   "execution_count": null,
   "metadata": {
    "collapsed": false
   },
   "outputs": [],
   "source": [
    "map(lambda x: x + 1, [1,2,3])"
   ]
  },
  {
   "cell_type": "code",
   "execution_count": null,
   "metadata": {
    "collapsed": true
   },
   "outputs": [],
   "source": []
  }
 ],
 "metadata": {
  "kernelspec": {
   "display_name": "Python 2",
   "language": "python",
   "name": "python2"
  },
  "language_info": {
   "codemirror_mode": {
    "name": "ipython",
    "version": 2
   },
   "file_extension": ".py",
   "mimetype": "text/x-python",
   "name": "python",
   "nbconvert_exporter": "python",
   "pygments_lexer": "ipython2",
   "version": "2.7.10"
  }
 },
 "nbformat": 4,
 "nbformat_minor": 0
}
