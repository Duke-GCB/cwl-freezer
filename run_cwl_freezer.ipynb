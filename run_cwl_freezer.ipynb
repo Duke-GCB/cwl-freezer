{
 "cells": [
  {
   "cell_type": "code",
   "execution_count": 25,
   "metadata": {
    "collapsed": false
   },
   "outputs": [
    {
     "data": {
      "text/plain": [
       "{'dukegcb/extract-go-terms': {u'Created': 1439217383,\n",
       "  u'Id': u'8042281f9653ee88de52cf4f74134afe8629311e3af967081edd44553f7d664b',\n",
       "  u'Labels': {},\n",
       "  u'ParentId': u'b00943b0cd61c6d2caa3d30a6955898082086bbbef037659c0ae9f15e0f005dd',\n",
       "  u'RepoDigests': [],\n",
       "  u'RepoTags': [u'dukegcb/extract-go-terms:latest'],\n",
       "  u'Size': 0,\n",
       "  u'VirtualSize': 282572347},\n",
       " 'dukegcb/glimmer': {u'Created': 1427745851,\n",
       "  u'Id': u'86d6cd7f5512c0b284ff063b165ee7486635cefd19c8c6bfb5d7f99e001b94f7',\n",
       "  u'Labels': None,\n",
       "  u'ParentId': u'6624988c476f9f34adab0a232444becbb165af13d109604f6e030cf36306180f',\n",
       "  u'RepoDigests': [],\n",
       "  u'RepoTags': [u'dukegcb/glimmer:latest'],\n",
       "  u'Size': 0,\n",
       "  u'VirtualSize': 452847157},\n",
       " 'dukegcb/go-blast': {u'Created': 1430858490,\n",
       "  u'Id': u'17965b1f31e03974340c9ac29575e68ccb8b031767196b96ee6c6604a3ce1a05',\n",
       "  u'Labels': {},\n",
       "  u'ParentId': u'70bbcc553da1bd9f6cfb9d696ba84c0d32d2e4ba63a8189d79304ae2814bf5fe',\n",
       "  u'RepoDigests': [],\n",
       "  u'RepoTags': [u'dukegcb/go-blast:latest'],\n",
       "  u'Size': 0,\n",
       "  u'VirtualSize': 369060428},\n",
       " 'dukegcb/xgenovo': {u'Created': 1447784969,\n",
       "  u'Id': u'1396a7cc9e06ffca92a8673584fe62d2b457c201b9a6a41738f6dfd9b5d28e11',\n",
       "  u'Labels': {},\n",
       "  u'ParentId': u'475b615fbaa0cb06573a95d8c9adb77d32ea3b54cc399c2fdaa59bd7b222a758',\n",
       "  u'RepoDigests': [],\n",
       "  u'RepoTags': [u'dukegcb/xgenovo:latest'],\n",
       "  u'Size': 0,\n",
       "  u'VirtualSize': 298635224}}"
      ]
     },
     "execution_count": 25,
     "metadata": {},
     "output_type": "execute_result"
    }
   ],
   "source": [
    "import cwl_freezer\n",
    "reload(cwl_freezer)\n",
    "workflow_doc = '/Users/dcl9/Code/python/mmap-cwl/mmap.cwl'\n",
    "workflow = cwl_freezer.load_workflow(workflow_doc)\n",
    "images, workflow = cwl_freezer.freeze_workflow(workflow)\n"
   ]
  },
  {
   "cell_type": "code",
   "execution_count": 24,
   "metadata": {
    "collapsed": false
   },
   "outputs": [
    {
     "name": "stdout",
     "output_type": "stream",
     "text": [
      "Writing image metadata to /tmp/exported/8042281f9653ee88de52cf4f74134afe8629311e3af967081edd44553f7d664b/image.json\n",
      "Writing image tar to /tmp/exported/8042281f9653ee88de52cf4f74134afe8629311e3af967081edd44553f7d664b/image.tar\n",
      "Writing image metadata to /tmp/exported/86d6cd7f5512c0b284ff063b165ee7486635cefd19c8c6bfb5d7f99e001b94f7/image.json\n",
      "Writing image tar to /tmp/exported/86d6cd7f5512c0b284ff063b165ee7486635cefd19c8c6bfb5d7f99e001b94f7/image.tar\n",
      "Writing image metadata to /tmp/exported/1396a7cc9e06ffca92a8673584fe62d2b457c201b9a6a41738f6dfd9b5d28e11/image.json\n",
      "Writing image tar to /tmp/exported/1396a7cc9e06ffca92a8673584fe62d2b457c201b9a6a41738f6dfd9b5d28e11/image.tar\n",
      "Writing image metadata to /tmp/exported/17965b1f31e03974340c9ac29575e68ccb8b031767196b96ee6c6604a3ce1a05/image.json\n",
      "Writing image tar to /tmp/exported/17965b1f31e03974340c9ac29575e68ccb8b031767196b96ee6c6604a3ce1a05/image.tar\n"
     ]
    }
   ],
   "source": [
    "# Export images\n",
    "cwl_freezer.export_images(images, '/tmp/exported')"
   ]
  },
  {
   "cell_type": "code",
   "execution_count": 26,
   "metadata": {
    "collapsed": true
   },
   "outputs": [],
   "source": [
    "# Next: add a method to write out the workflow"
   ]
  },
  {
   "cell_type": "code",
   "execution_count": null,
   "metadata": {
    "collapsed": true
   },
   "outputs": [],
   "source": []
  }
 ],
 "metadata": {
  "kernelspec": {
   "display_name": "Python 2",
   "language": "python",
   "name": "python2"
  },
  "language_info": {
   "codemirror_mode": {
    "name": "ipython",
    "version": 2
   },
   "file_extension": ".py",
   "mimetype": "text/x-python",
   "name": "python",
   "nbconvert_exporter": "python",
   "pygments_lexer": "ipython2",
   "version": "2.7.10"
  }
 },
 "nbformat": 4,
 "nbformat_minor": 0
}
