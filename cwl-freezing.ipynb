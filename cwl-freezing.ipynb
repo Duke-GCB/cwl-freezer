{
 "cells": [
  {
   "cell_type": "code",
   "execution_count": 1,
   "metadata": {
    "collapsed": true
   },
   "outputs": [],
   "source": [
    "import cwltool"
   ]
  },
  {
   "cell_type": "code",
   "execution_count": 2,
   "metadata": {
    "collapsed": true
   },
   "outputs": [],
   "source": [
    "workflow = '/Users/dcl9/Code/python/mmap-cwl/go-blast/go-blasttool.cwl'"
   ]
  },
  {
   "cell_type": "code",
   "execution_count": 3,
   "metadata": {
    "collapsed": false
   },
   "outputs": [
    {
     "name": "stdout",
     "output_type": "stream",
     "text": [
      "{\n",
      "    \"cwlVersion\": \"https://w3id.org/cwl/cwl#draft-3.dev1\", \n",
      "    \"inputs\": [\n",
      "        {\n",
      "            \"type\": \"string\", \n",
      "            \"id\": \"file:///Users/dcl9/Code/python/mmap-cwl/go-blast/go-blasttool.cwl#db_name\", \n",
      "            \"description\": \"Prefix of the BLAST db files\"\n",
      "        }, \n",
      "        {\n",
      "            \"type\": \"File\", \n",
      "            \"id\": \"file:///Users/dcl9/Code/python/mmap-cwl/go-blast/go-blasttool.cwl#db_dir\", \n",
      "            \"description\": \"Directory containing the BLAST database\"\n",
      "        }, \n",
      "        {\n",
      "            \"default\": \"\", \n",
      "            \"inputBinding\": {\n",
      "                \"position\": 1, \n",
      "                \"prefix\": \"-db\", \n",
      "                \"valueFrom\": {\n",
      "                    \"engine\": \"file:///Users/dcl9/Code/python/mmap-cwl/py-expr-engine/py-expr-engine.cwl\", \n",
      "                    \"script\": \"os.path.join(self.job['db_dir']['path'], self.job['db_name'])\\n\"\n",
      "                }\n",
      "            }, \n",
      "            \"type\": \"string\", \n",
      "            \"id\": \"file:///Users/dcl9/Code/python/mmap-cwl/go-blast/go-blasttool.cwl#db\"\n",
      "        }, \n",
      "        {\n",
      "            \"inputBinding\": {\n",
      "                \"position\": 2, \n",
      "                \"prefix\": \"-query\"\n",
      "            }, \n",
      "            \"type\": \"File\", \n",
      "            \"id\": \"file:///Users/dcl9/Code/python/mmap-cwl/go-blast/go-blasttool.cwl#query\", \n",
      "            \"description\": \"Input file containing sequences to query\"\n",
      "        }, \n",
      "        {\n",
      "            \"default\": \"goblast-terms.out\", \n",
      "            \"inputBinding\": {\n",
      "                \"position\": 3, \n",
      "                \"prefix\": \"-out\"\n",
      "            }, \n",
      "            \"type\": \"string\", \n",
      "            \"id\": \"file:///Users/dcl9/Code/python/mmap-cwl/go-blast/go-blasttool.cwl#results_file_name\", \n",
      "            \"description\": \"Output file to put BLAST results\"\n",
      "        }, \n",
      "        {\n",
      "            \"default\": \"1e-15\", \n",
      "            \"inputBinding\": {\n",
      "                \"position\": 4, \n",
      "                \"prefix\": \"-evalue\"\n",
      "            }, \n",
      "            \"type\": \"string\", \n",
      "            \"id\": \"file:///Users/dcl9/Code/python/mmap-cwl/go-blast/go-blasttool.cwl#evalue\"\n",
      "        }, \n",
      "        {\n",
      "            \"default\": \"yes\", \n",
      "            \"inputBinding\": {\n",
      "                \"position\": 5, \n",
      "                \"prefix\": \"-seg\"\n",
      "            }, \n",
      "            \"type\": \"string\", \n",
      "            \"id\": \"file:///Users/dcl9/Code/python/mmap-cwl/go-blast/go-blasttool.cwl#seg\"\n",
      "        }, \n",
      "        {\n",
      "            \"default\": \"10 std stitle\", \n",
      "            \"inputBinding\": {\n",
      "                \"position\": 6, \n",
      "                \"prefix\": \"-outfmt\"\n",
      "            }, \n",
      "            \"type\": \"string\", \n",
      "            \"id\": \"file:///Users/dcl9/Code/python/mmap-cwl/go-blast/go-blasttool.cwl#outfmt\"\n",
      "        }\n",
      "    ], \n",
      "    \"requirements\": [\n",
      "        {\n",
      "            \"id\": \"file:///Users/dcl9/Code/python/mmap-cwl/py-expr-engine/py-expr-engine.cwl\", \n",
      "            \"engineCommand\": \"py-expr-engine/engine.py\", \n",
      "            \"class\": \"ExpressionEngineRequirement\", \n",
      "            \"name\": \"file:///Users/dcl9/Code/python/mmap-cwl/py-expr-engine/py-expr-engine.cwl\"\n",
      "        }\n",
      "    ], \n",
      "    \"name\": \"file:///Users/dcl9/Code/python/mmap-cwl/go-blast/go-blasttool.cwl\", \n",
      "    \"id\": \"file:///Users/dcl9/Code/python/mmap-cwl/go-blast/go-blasttool.cwl\", \n",
      "    \"outputs\": [\n",
      "        {\n",
      "            \"outputBinding\": {\n",
      "                \"glob\": {\n",
      "                    \"engine\": \"https://w3id.org/cwl/cwl#JsonPointer\", \n",
      "                    \"script\": \"job/results_file_name\"\n",
      "                }\n",
      "            }, \n",
      "            \"type\": \"File\", \n",
      "            \"id\": \"file:///Users/dcl9/Code/python/mmap-cwl/go-blast/go-blasttool.cwl#results_file\"\n",
      "        }\n",
      "    ], \n",
      "    \"hints\": [\n",
      "        {\n",
      "            \"dockerImageId\": \"dukegcb/go-blast\", \n",
      "            \"class\": \"DockerRequirement\"\n",
      "        }\n",
      "    ], \n",
      "    \"baseCommand\": \"blastx\", \n",
      "    \"class\": \"CommandLineTool\"\n",
      "}\n"
     ]
    },
    {
     "name": "stderr",
     "output_type": "stream",
     "text": [
      "/Users/dcl9/Code/python/cwl-freeze/env/bin/cwltool 1.0.20151112194920\n"
     ]
    }
   ],
   "source": [
    "%%sh \n",
    "cwltool --print-pre /Users/dcl9/Code/python/mmap-cwl/go-blast/go-blasttool.cwl"
   ]
  },
  {
   "cell_type": "code",
   "execution_count": 4,
   "metadata": {
    "collapsed": true
   },
   "outputs": [],
   "source": [
    "import yaml"
   ]
  },
  {
   "cell_type": "code",
   "execution_count": 5,
   "metadata": {
    "collapsed": false
   },
   "outputs": [],
   "source": [
    "y = None\n",
    "with open(workflow) as f:\n",
    "    y = yaml.load(f)"
   ]
  },
  {
   "cell_type": "code",
   "execution_count": 6,
   "metadata": {
    "collapsed": false
   },
   "outputs": [],
   "source": [
    "# find if y has a hint that is a docker requirement\n"
   ]
  },
  {
   "cell_type": "code",
   "execution_count": 7,
   "metadata": {
    "collapsed": true
   },
   "outputs": [],
   "source": [
    "def traverse(dic, path=None):\n",
    "    if not path:\n",
    "        path=[]\n",
    "    if isinstance(dic,dict):\n",
    "        for x in dic.keys():\n",
    "            local_path = path[:]\n",
    "            local_path.append(x)\n",
    "            for b in traverse(dic[x], local_path):\n",
    "                 yield b\n",
    "    else: \n",
    "        yield path,dic"
   ]
  },
  {
   "cell_type": "code",
   "execution_count": 8,
   "metadata": {
    "collapsed": false
   },
   "outputs": [],
   "source": [
    "def dockerHints(dic):\n",
    "    if 'hints' in dic:\n",
    "        return dict['hints']\n",
    "    return None\n",
    "\n",
    "def dockerRequirements(dict):\n",
    "    if 'requirements' in dic:\n",
    "        return dict['requirements']\n",
    "    return None\n",
    "\n",
    "def imageIds(dic):\n",
    "    if 'hints' in dic:\n",
    "        for hint in dic['hints']:\n",
    "            if hint['class'] == 'DockerRequirement':\n",
    "                return hint['dockerImageId']\n",
    "    return None\n",
    "\n",
    "\n"
   ]
  },
  {
   "cell_type": "code",
   "execution_count": 9,
   "metadata": {
    "collapsed": false
   },
   "outputs": [
    {
     "ename": "NameError",
     "evalue": "name 'imageId' is not defined",
     "output_type": "error",
     "traceback": [
      "\u001b[0;31m---------------------------------------------------------------------------\u001b[0m",
      "\u001b[0;31mNameError\u001b[0m                                 Traceback (most recent call last)",
      "\u001b[0;32m<ipython-input-9-8603d8e9315b>\u001b[0m in \u001b[0;36m<module>\u001b[0;34m()\u001b[0m\n\u001b[0;32m----> 1\u001b[0;31m \u001b[0mimageId\u001b[0m\u001b[0;34m(\u001b[0m\u001b[0my\u001b[0m\u001b[0;34m)\u001b[0m\u001b[0;34m\u001b[0m\u001b[0m\n\u001b[0m",
      "\u001b[0;31mNameError\u001b[0m: name 'imageId' is not defined"
     ]
    }
   ],
   "source": [
    "imageId(y)"
   ]
  },
  {
   "cell_type": "code",
   "execution_count": 10,
   "metadata": {
    "collapsed": false
   },
   "outputs": [],
   "source": [
    "import dpath.util"
   ]
  },
  {
   "cell_type": "code",
   "execution_count": 11,
   "metadata": {
    "collapsed": false
   },
   "outputs": [
    {
     "data": {
      "text/plain": [
       "{'hints': [{'dockerImageId': 'dukegcb/go-blast'}]}"
      ]
     },
     "execution_count": 11,
     "metadata": {},
     "output_type": "execute_result"
    }
   ],
   "source": [
    "dpath.util.search(y,'hints/*/dockerImageId')"
   ]
  },
  {
   "cell_type": "code",
   "execution_count": 12,
   "metadata": {
    "collapsed": true
   },
   "outputs": [],
   "source": [
    "# Maybe I should use the schema? "
   ]
  },
  {
   "cell_type": "code",
   "execution_count": 13,
   "metadata": {
    "collapsed": false
   },
   "outputs": [],
   "source": [
    "from schema_salad import schema"
   ]
  },
  {
   "cell_type": "code",
   "execution_count": 33,
   "metadata": {
    "collapsed": false
   },
   "outputs": [],
   "source": [
    "import urlparse\n",
    "from cwltool import process, update\n",
    "(document_loader, avsc_names, schema_metadata) = process.get_schema()\n",
    "\n",
    "fileuri = 'file://' + workflow\n",
    "workflowobj = document_loader.fetch(fileuri)\n",
    "strict = True\n"
   ]
  },
  {
   "cell_type": "code",
   "execution_count": 36,
   "metadata": {
    "collapsed": false
   },
   "outputs": [],
   "source": [
    "# This updates from draft2 to draft3\n",
    "workflowobj = update.update(workflowobj, document_loader, fileuri)\n",
    "document_loader.idx.clear()"
   ]
  },
  {
   "cell_type": "code",
   "execution_count": 38,
   "metadata": {
    "collapsed": false
   },
   "outputs": [],
   "source": [
    "processobj, metadata = schema.load_and_validate(document_loader, avsc_names, workflowobj, strict)"
   ]
  },
  {
   "cell_type": "code",
   "execution_count": 44,
   "metadata": {
    "collapsed": false
   },
   "outputs": [
    {
     "data": {
      "text/plain": [
       "dict"
      ]
     },
     "execution_count": 44,
     "metadata": {},
     "output_type": "execute_result"
    }
   ],
   "source": [
    "type(processobj)"
   ]
  },
  {
   "cell_type": "markdown",
   "metadata": {},
   "source": [
    "## Questions\n",
    "\n",
    "1. Could this be a CWL compiler?\n",
    "2. WIll it take a root document and return the whole structure?\n",
    "3. Can I find the dockerRequirement anywhere in the doc?"
   ]
  },
  {
   "cell_type": "code",
   "execution_count": null,
   "metadata": {
    "collapsed": true
   },
   "outputs": [],
   "source": []
  }
 ],
 "metadata": {
  "kernelspec": {
   "display_name": "Python 2",
   "language": "python",
   "name": "python2"
  },
  "language_info": {
   "codemirror_mode": {
    "name": "ipython",
    "version": 2
   },
   "file_extension": ".py",
   "mimetype": "text/x-python",
   "name": "python",
   "nbconvert_exporter": "python",
   "pygments_lexer": "ipython2",
   "version": "2.7.10"
  }
 },
 "nbformat": 4,
 "nbformat_minor": 0
}
