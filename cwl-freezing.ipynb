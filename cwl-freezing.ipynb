{
 "cells": [
  {
   "cell_type": "code",
   "execution_count": 1,
   "metadata": {
    "collapsed": true
   },
   "outputs": [],
   "source": [
    "import cwltool"
   ]
  },
  {
   "cell_type": "code",
   "execution_count": 2,
   "metadata": {
    "collapsed": true
   },
   "outputs": [],
   "source": [
    "tool = '/Users/dcl9/Code/python/mmap-cwl/go-blast/go-blasttool.cwl'"
   ]
  },
  {
   "cell_type": "code",
   "execution_count": 3,
   "metadata": {
    "collapsed": false
   },
   "outputs": [
    {
     "name": "stdout",
     "output_type": "stream",
     "text": [
      "{\n",
      "    \"cwlVersion\": \"https://w3id.org/cwl/cwl#draft-3.dev1\", \n",
      "    \"inputs\": [\n",
      "        {\n",
      "            \"type\": \"string\", \n",
      "            \"id\": \"file:///Users/dcl9/Code/python/mmap-cwl/go-blast/go-blasttool.cwl#db_name\", \n",
      "            \"description\": \"Prefix of the BLAST db files\"\n",
      "        }, \n",
      "        {\n",
      "            \"type\": \"File\", \n",
      "            \"id\": \"file:///Users/dcl9/Code/python/mmap-cwl/go-blast/go-blasttool.cwl#db_dir\", \n",
      "            \"description\": \"Directory containing the BLAST database\"\n",
      "        }, \n",
      "        {\n",
      "            \"default\": \"\", \n",
      "            \"inputBinding\": {\n",
      "                \"position\": 1, \n",
      "                \"prefix\": \"-db\", \n",
      "                \"valueFrom\": {\n",
      "                    \"engine\": \"file:///Users/dcl9/Code/python/mmap-cwl/py-expr-engine/py-expr-engine.cwl\", \n",
      "                    \"script\": \"os.path.join(self.job['db_dir']['path'], self.job['db_name'])\\n\"\n",
      "                }\n",
      "            }, \n",
      "            \"type\": \"string\", \n",
      "            \"id\": \"file:///Users/dcl9/Code/python/mmap-cwl/go-blast/go-blasttool.cwl#db\"\n",
      "        }, \n",
      "        {\n",
      "            \"inputBinding\": {\n",
      "                \"position\": 2, \n",
      "                \"prefix\": \"-query\"\n",
      "            }, \n",
      "            \"type\": \"File\", \n",
      "            \"id\": \"file:///Users/dcl9/Code/python/mmap-cwl/go-blast/go-blasttool.cwl#query\", \n",
      "            \"description\": \"Input file containing sequences to query\"\n",
      "        }, \n",
      "        {\n",
      "            \"default\": \"goblast-terms.out\", \n",
      "            \"inputBinding\": {\n",
      "                \"position\": 3, \n",
      "                \"prefix\": \"-out\"\n",
      "            }, \n",
      "            \"type\": \"string\", \n",
      "            \"id\": \"file:///Users/dcl9/Code/python/mmap-cwl/go-blast/go-blasttool.cwl#results_file_name\", \n",
      "            \"description\": \"Output file to put BLAST results\"\n",
      "        }, \n",
      "        {\n",
      "            \"default\": \"1e-15\", \n",
      "            \"inputBinding\": {\n",
      "                \"position\": 4, \n",
      "                \"prefix\": \"-evalue\"\n",
      "            }, \n",
      "            \"type\": \"string\", \n",
      "            \"id\": \"file:///Users/dcl9/Code/python/mmap-cwl/go-blast/go-blasttool.cwl#evalue\"\n",
      "        }, \n",
      "        {\n",
      "            \"default\": \"yes\", \n",
      "            \"inputBinding\": {\n",
      "                \"position\": 5, \n",
      "                \"prefix\": \"-seg\"\n",
      "            }, \n",
      "            \"type\": \"string\", \n",
      "            \"id\": \"file:///Users/dcl9/Code/python/mmap-cwl/go-blast/go-blasttool.cwl#seg\"\n",
      "        }, \n",
      "        {\n",
      "            \"default\": \"10 std stitle\", \n",
      "            \"inputBinding\": {\n",
      "                \"position\": 6, \n",
      "                \"prefix\": \"-outfmt\"\n",
      "            }, \n",
      "            \"type\": \"string\", \n",
      "            \"id\": \"file:///Users/dcl9/Code/python/mmap-cwl/go-blast/go-blasttool.cwl#outfmt\"\n",
      "        }\n",
      "    ], \n",
      "    \"requirements\": [\n",
      "        {\n",
      "            \"id\": \"file:///Users/dcl9/Code/python/mmap-cwl/py-expr-engine/py-expr-engine.cwl\", \n",
      "            \"engineCommand\": \"py-expr-engine/engine.py\", \n",
      "            \"class\": \"ExpressionEngineRequirement\", \n",
      "            \"name\": \"file:///Users/dcl9/Code/python/mmap-cwl/py-expr-engine/py-expr-engine.cwl\"\n",
      "        }\n",
      "    ], \n",
      "    \"name\": \"file:///Users/dcl9/Code/python/mmap-cwl/go-blast/go-blasttool.cwl\", \n",
      "    \"id\": \"file:///Users/dcl9/Code/python/mmap-cwl/go-blast/go-blasttool.cwl\", \n",
      "    \"outputs\": [\n",
      "        {\n",
      "            \"outputBinding\": {\n",
      "                \"glob\": {\n",
      "                    \"engine\": \"https://w3id.org/cwl/cwl#JsonPointer\", \n",
      "                    \"script\": \"job/results_file_name\"\n",
      "                }\n",
      "            }, \n",
      "            \"type\": \"File\", \n",
      "            \"id\": \"file:///Users/dcl9/Code/python/mmap-cwl/go-blast/go-blasttool.cwl#results_file\"\n",
      "        }\n",
      "    ], \n",
      "    \"hints\": [\n",
      "        {\n",
      "            \"dockerImageId\": \"dukegcb/go-blast\", \n",
      "            \"class\": \"DockerRequirement\"\n",
      "        }\n",
      "    ], \n",
      "    \"baseCommand\": \"blastx\", \n",
      "    \"class\": \"CommandLineTool\"\n",
      "}\n"
     ]
    },
    {
     "name": "stderr",
     "output_type": "stream",
     "text": [
      "/Users/dcl9/Code/python/cwl-freeze/env/bin/cwltool 1.0.20151112194920\n"
     ]
    }
   ],
   "source": [
    "%%sh \n",
    "cwltool --print-pre /Users/dcl9/Code/python/mmap-cwl/go-blast/go-blasttool.cwl"
   ]
  },
  {
   "cell_type": "code",
   "execution_count": 4,
   "metadata": {
    "collapsed": true
   },
   "outputs": [],
   "source": [
    "import yaml"
   ]
  },
  {
   "cell_type": "code",
   "execution_count": 5,
   "metadata": {
    "collapsed": false
   },
   "outputs": [],
   "source": [
    "y = None\n",
    "with open(tool) as f:\n",
    "    y = yaml.load(f)"
   ]
  },
  {
   "cell_type": "code",
   "execution_count": 6,
   "metadata": {
    "collapsed": false
   },
   "outputs": [],
   "source": [
    "# find if y has a hint that is a docker requirement\n"
   ]
  },
  {
   "cell_type": "code",
   "execution_count": 7,
   "metadata": {
    "collapsed": false
   },
   "outputs": [],
   "source": [
    "import dpath.util"
   ]
  },
  {
   "cell_type": "code",
   "execution_count": 8,
   "metadata": {
    "collapsed": false
   },
   "outputs": [
    {
     "data": {
      "text/plain": [
       "{'hints': [{'dockerImageId': 'dukegcb/go-blast'}]}"
      ]
     },
     "execution_count": 8,
     "metadata": {},
     "output_type": "execute_result"
    }
   ],
   "source": [
    "dpath.util.search(y,'*/*/dockerImageId')"
   ]
  },
  {
   "cell_type": "code",
   "execution_count": 9,
   "metadata": {
    "collapsed": true
   },
   "outputs": [],
   "source": [
    "# parse function\n",
    "import urlparse\n",
    "from schema_salad import schema\n",
    "from cwltool import process, update\n",
    "def parse(cwlpath):\n",
    "    (document_loader, avsc_names, schema_metadata) = process.get_schema()\n",
    "    fileuri = 'file://' + cwlpath\n",
    "    workflowobj = document_loader.fetch(fileuri)\n",
    "    # If strict is true, names are required everywhere (among other requirements)\n",
    "    strict = False\n",
    "    # This updates from draft2 to draft3\n",
    "    workflowobj = update.update(workflowobj, document_loader, fileuri)\n",
    "    document_loader.idx.clear()\n",
    "    processobj, metadata = schema.load_and_validate(document_loader, avsc_names, workflowobj, strict)\n",
    "    return processobj"
   ]
  },
  {
   "cell_type": "code",
   "execution_count": 10,
   "metadata": {
    "collapsed": false
   },
   "outputs": [
    {
     "name": "stdout",
     "output_type": "stream",
     "text": [
      "{\n",
      "  \"cwlVersion\": \"https://w3id.org/cwl/cwl#draft-3.dev1\", \n",
      "  \"inputs\": [\n",
      "    {\n",
      "      \"type\": \"string\", \n",
      "      \"id\": \"file:///Users/dcl9/Code/python/mmap-cwl/go-blast/go-blasttool.cwl#db_name\", \n",
      "      \"description\": \"Prefix of the BLAST db files\"\n",
      "    }, \n",
      "    {\n",
      "      \"type\": \"File\", \n",
      "      \"id\": \"file:///Users/dcl9/Code/python/mmap-cwl/go-blast/go-blasttool.cwl#db_dir\", \n",
      "      \"description\": \"Directory containing the BLAST database\"\n",
      "    }, \n",
      "    {\n",
      "      \"default\": \"\", \n",
      "      \"inputBinding\": {\n",
      "        \"position\": 1, \n",
      "        \"prefix\": \"-db\", \n",
      "        \"valueFrom\": {\n",
      "          \"engine\": \"file:///Users/dcl9/Code/python/mmap-cwl/py-expr-engine/py-expr-engine.cwl\", \n",
      "          \"script\": \"os.path.join(self.job['db_dir']['path'], self.job['db_name'])\\n\"\n",
      "        }\n",
      "      }, \n",
      "      \"type\": \"string\", \n",
      "      \"id\": \"file:///Users/dcl9/Code/python/mmap-cwl/go-blast/go-blasttool.cwl#db\"\n",
      "    }, \n",
      "    {\n",
      "      \"inputBinding\": {\n",
      "        \"position\": 2, \n",
      "        \"prefix\": \"-query\"\n",
      "      }, \n",
      "      \"type\": \"File\", \n",
      "      \"id\": \"file:///Users/dcl9/Code/python/mmap-cwl/go-blast/go-blasttool.cwl#query\", \n",
      "      \"description\": \"Input file containing sequences to query\"\n",
      "    }, \n",
      "    {\n",
      "      \"default\": \"goblast-terms.out\", \n",
      "      \"inputBinding\": {\n",
      "        \"position\": 3, \n",
      "        \"prefix\": \"-out\"\n",
      "      }, \n",
      "      \"type\": \"string\", \n",
      "      \"id\": \"file:///Users/dcl9/Code/python/mmap-cwl/go-blast/go-blasttool.cwl#results_file_name\", \n",
      "      \"description\": \"Output file to put BLAST results\"\n",
      "    }, \n",
      "    {\n",
      "      \"default\": \"1e-15\", \n",
      "      \"inputBinding\": {\n",
      "        \"position\": 4, \n",
      "        \"prefix\": \"-evalue\"\n",
      "      }, \n",
      "      \"type\": \"string\", \n",
      "      \"id\": \"file:///Users/dcl9/Code/python/mmap-cwl/go-blast/go-blasttool.cwl#evalue\"\n",
      "    }, \n",
      "    {\n",
      "      \"default\": \"yes\", \n",
      "      \"inputBinding\": {\n",
      "        \"position\": 5, \n",
      "        \"prefix\": \"-seg\"\n",
      "      }, \n",
      "      \"type\": \"string\", \n",
      "      \"id\": \"file:///Users/dcl9/Code/python/mmap-cwl/go-blast/go-blasttool.cwl#seg\"\n",
      "    }, \n",
      "    {\n",
      "      \"default\": \"10 std stitle\", \n",
      "      \"inputBinding\": {\n",
      "        \"position\": 6, \n",
      "        \"prefix\": \"-outfmt\"\n",
      "      }, \n",
      "      \"type\": \"string\", \n",
      "      \"id\": \"file:///Users/dcl9/Code/python/mmap-cwl/go-blast/go-blasttool.cwl#outfmt\"\n",
      "    }\n",
      "  ], \n",
      "  \"requirements\": [\n",
      "    {\n",
      "      \"id\": \"file:///Users/dcl9/Code/python/mmap-cwl/py-expr-engine/py-expr-engine.cwl\", \n",
      "      \"engineCommand\": \"py-expr-engine/engine.py\", \n",
      "      \"class\": \"ExpressionEngineRequirement\", \n",
      "      \"name\": \"file:///Users/dcl9/Code/python/mmap-cwl/py-expr-engine/py-expr-engine.cwl\"\n",
      "    }\n",
      "  ], \n",
      "  \"name\": \"file:///Users/dcl9/Code/python/mmap-cwl/go-blast/go-blasttool.cwl\", \n",
      "  \"id\": \"file:///Users/dcl9/Code/python/mmap-cwl/go-blast/go-blasttool.cwl\", \n",
      "  \"outputs\": [\n",
      "    {\n",
      "      \"outputBinding\": {\n",
      "        \"glob\": {\n",
      "          \"engine\": \"https://w3id.org/cwl/cwl#JsonPointer\", \n",
      "          \"script\": \"job/results_file_name\"\n",
      "        }\n",
      "      }, \n",
      "      \"type\": \"File\", \n",
      "      \"id\": \"file:///Users/dcl9/Code/python/mmap-cwl/go-blast/go-blasttool.cwl#results_file\"\n",
      "    }\n",
      "  ], \n",
      "  \"hints\": [\n",
      "    {\n",
      "      \"dockerImageId\": \"dukegcb/go-blast\", \n",
      "      \"class\": \"DockerRequirement\"\n",
      "    }\n",
      "  ], \n",
      "  \"baseCommand\": \"blastx\", \n",
      "  \"class\": \"CommandLineTool\"\n",
      "}\n"
     ]
    }
   ],
   "source": [
    "import json\n",
    "print json.dumps(parse(tool), indent=2)"
   ]
  },
  {
   "cell_type": "markdown",
   "metadata": {},
   "source": [
    "## Questions\n",
    "\n",
    "1. Could this be a CWL compiler?\n",
    "2. WIll it take a root document and return the whole structure?\n",
    "3. Can I find the dockerRequirement anywhere in the doc?\n",
    "4. Can I find the dockerRequirement using the schema?"
   ]
  },
  {
   "cell_type": "markdown",
   "metadata": {},
   "source": [
    "### 1. CWL Docker Compiler\n",
    "\n",
    "What does that mean? Abstractly, that it would read an input document, look for all docker requirements and hints, pull the images, and then write a shell script to reload everything\n",
    "\n"
   ]
  },
  {
   "cell_type": "markdown",
   "metadata": {},
   "source": [
    "## 2. Root document and return whole structure?"
   ]
  },
  {
   "cell_type": "code",
   "execution_count": 11,
   "metadata": {
    "collapsed": false
   },
   "outputs": [],
   "source": [
    "workflow = parse('/Users/dcl9/Code/python/mmap-cwl/mmap.cwl')"
   ]
  },
  {
   "cell_type": "markdown",
   "metadata": {},
   "source": [
    "Yes, that works"
   ]
  },
  {
   "cell_type": "code",
   "execution_count": 84,
   "metadata": {
    "collapsed": false
   },
   "outputs": [],
   "source": [
    "# This function will find dockerImageId anyhwere in the tree\n",
    "def find_key(d, key, path=[]):\n",
    "    if isinstance(d, list):\n",
    "        for i, v in enumerate(d):\n",
    "            for f in find_key(v, key, path + [str(i)]):\n",
    "                yield f\n",
    "    elif isinstance(d, dict):\n",
    "        if key in d:\n",
    "            pathstring = '/'.join(path + [key])\n",
    "            yield pathstring\n",
    "        for k, v in d.items():\n",
    "            for f in find_key(v, key, path + [k]):\n",
    "                yield f\n",
    "    "
   ]
  },
  {
   "cell_type": "code",
   "execution_count": 97,
   "metadata": {
    "collapsed": false
   },
   "outputs": [
    {
     "name": "stdout",
     "output_type": "stream",
     "text": [
      "steps/0/run/steps/0/run/hints/0/dockerImageId dukegcb/xgenovo\n",
      "steps/0/run/steps/1/run/hints/0/dockerImageId dukegcb/xgenovo\n",
      "steps/1/run/steps/0/run/hints/0/dockerImageId dukegcb/glimmer\n",
      "steps/1/run/steps/1/run/hints/0/dockerImageId dukegcb/glimmer\n",
      "steps/1/run/steps/2/run/hints/0/dockerImageId dukegcb/glimmer\n",
      "steps/2/run/steps/0/run/hints/0/dockerImageId dukegcb/go-blast\n",
      "steps/2/run/steps/1/run/hints/0/dockerImageId dukegcb/extract-go-terms\n"
     ]
    }
   ],
   "source": [
    "# Could adapt to find class: DockerRequirement instead\n",
    "for x in find_key(workflow, 'dockerImageId'):\n",
    "    print x, dpath.util.get(workflow, x)"
   ]
  },
  {
   "cell_type": "code",
   "execution_count": 94,
   "metadata": {
    "collapsed": false
   },
   "outputs": [
    {
     "data": {
      "text/plain": [
       "{'class': 'DockerRequirement', 'dockerImageId': 'dukegcb/xgenovo'}"
      ]
     },
     "execution_count": 94,
     "metadata": {},
     "output_type": "execute_result"
    }
   ],
   "source": [
    "dpath.util.get(workflow, 'steps/0/run/steps/0/run/hints/0')"
   ]
  },
  {
   "cell_type": "markdown",
   "metadata": {},
   "source": [
    "### extract docker image names"
   ]
  },
  {
   "cell_type": "code",
   "execution_count": 104,
   "metadata": {
    "collapsed": false
   },
   "outputs": [],
   "source": [
    "def image_names(workflow):\n",
    "    image_ids = []\n",
    "    for x in find_key(workflow, 'dockerImageId'):\n",
    "        image_id = dpath.util.get(workflow, x)\n",
    "        if image_id not in image_ids: image_ids.append(image_id) \n",
    "    return image_ids"
   ]
  },
  {
   "cell_type": "code",
   "execution_count": 105,
   "metadata": {
    "collapsed": false
   },
   "outputs": [
    {
     "data": {
      "text/plain": [
       "['dukegcb/xgenovo',\n",
       " 'dukegcb/glimmer',\n",
       " 'dukegcb/go-blast',\n",
       " 'dukegcb/extract-go-terms']"
      ]
     },
     "execution_count": 105,
     "metadata": {},
     "output_type": "execute_result"
    }
   ],
   "source": [
    "image_names(workflow)"
   ]
  },
  {
   "cell_type": "code",
   "execution_count": 108,
   "metadata": {
    "collapsed": false
   },
   "outputs": [
    {
     "name": "stdout",
     "output_type": "stream",
     "text": [
      "dukegcb/xgenovo\n",
      "dukegcb/glimmer\n",
      "dukegcb/go-blast\n",
      "dukegcb/extract-go-terms\n"
     ]
    }
   ],
   "source": [
    "import docker\n",
    "\n",
    "def docker_hashes(image_ids):\n",
    "    for name in image_ids:\n",
    "        print name\n",
    "\n",
    "docker_hashes(image_names(workflow))"
   ]
  },
  {
   "cell_type": "code",
   "execution_count": null,
   "metadata": {
    "collapsed": true
   },
   "outputs": [],
   "source": []
  }
 ],
 "metadata": {
  "kernelspec": {
   "display_name": "Python 2",
   "language": "python",
   "name": "python2"
  },
  "language_info": {
   "codemirror_mode": {
    "name": "ipython",
    "version": 2
   },
   "file_extension": ".py",
   "mimetype": "text/x-python",
   "name": "python",
   "nbconvert_exporter": "python",
   "pygments_lexer": "ipython2",
   "version": "2.7.10"
  }
 },
 "nbformat": 4,
 "nbformat_minor": 0
}
